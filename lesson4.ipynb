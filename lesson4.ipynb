{
 "cells": [
  {
   "cell_type": "code",
   "execution_count": null,
   "metadata": {},
   "outputs": [],
   "source": [
    "import numpy as np\n",
    "import pandas as pd"
   ]
  },
  {
   "cell_type": "markdown",
   "metadata": {},
   "source": [
    "ИНДЕКСЫ"
   ]
  },
  {
   "cell_type": "markdown",
   "metadata": {},
   "source": [
    "Если размерность данных > 2, то используют иерархическую индексацию (мультииндекс). В один индекс включается несколько уровней."
   ]
  },
  {
   "cell_type": "code",
   "execution_count": null,
   "metadata": {},
   "outputs": [],
   "source": [
    "index = [\n",
    "    ('city1', 2010),\n",
    "    ('city1', 2020),\n",
    "    ('city2', 2010),\n",
    "    ('city2', 2020),\n",
    "    ('city3', 2010),\n",
    "    ('city3', 2020)\n",
    "]\n",
    "\n",
    "population = [\n",
    "    101,\n",
    "    102,\n",
    "    103,\n",
    "    104,\n",
    "    105,\n",
    "    106\n",
    "]\n",
    "\n",
    "pop = pd.Series(population, index=index)\n",
    "\n",
    "print(pop)\n",
    "print()\n",
    "print(pop[[i for i in pop.index if i[1] == 2020]])"
   ]
  },
  {
   "cell_type": "markdown",
   "metadata": {},
   "source": [
    "MultiIndex"
   ]
  },
  {
   "cell_type": "code",
   "execution_count": null,
   "metadata": {},
   "outputs": [],
   "source": [
    "index = pd.MultiIndex.from_tuples(index)\n",
    "pop = pop.reindex(index)\n",
    "\n",
    "print(pop)\n",
    "print()\n",
    "print(pop[:, 2020])\n",
    "print()\n",
    "\n",
    "pop_df = pop.unstack()\n",
    "print(pop_df)\n",
    "print()\n",
    "print(pop_df.stack())"
   ]
  },
  {
   "cell_type": "code",
   "execution_count": null,
   "metadata": {},
   "outputs": [],
   "source": [
    "index = [\n",
    "    ('city1', 2010, 1),\n",
    "    ('city1', 2010, 2),\n",
    "\n",
    "    ('city1', 2020, 1),\n",
    "    ('city1', 2020, 2),\n",
    "\n",
    "    ('city2', 2010, 1),\n",
    "    ('city2', 2010, 2),\n",
    "\n",
    "    ('city2', 2020, 1),\n",
    "    ('city2', 2020, 2)\n",
    "]\n",
    "\n",
    "population = [\n",
    "    101,\n",
    "    1010,\n",
    "    201,\n",
    "    2010,\n",
    "    102,\n",
    "    1020,\n",
    "    202,\n",
    "    2020\n",
    "]\n",
    "\n",
    "pop = pd.Series(population, index=index)\n",
    "print(pop)\n",
    "print()\n",
    "\n",
    "index = pd.MultiIndex.from_tuples(index)\n",
    "\n",
    "pop = pop.reindex(index)\n",
    "print(pop)\n",
    "print()\n",
    "\n",
    "print(pop[:, :, 2])"
   ]
  },
  {
   "cell_type": "code",
   "execution_count": null,
   "metadata": {},
   "outputs": [],
   "source": [
    "pop_df = pop.unstack()\n",
    "print(pop_df)\n",
    "print()\n",
    "print(pop_df.stack())"
   ]
  },
  {
   "cell_type": "code",
   "execution_count": null,
   "metadata": {},
   "outputs": [],
   "source": [
    "index = [\n",
    "    ('city1', 2010),\n",
    "    ('city1', 2010),\n",
    "    ('city1', 2020),\n",
    "\n",
    "    ('city2', 2010),\n",
    "    ('city2', 2010),\n",
    "    ('city2', 2020)\n",
    "]\n",
    "\n",
    "population = [\n",
    "    101,\n",
    "    1010,\n",
    "    201,\n",
    "    2010,\n",
    "    102,\n",
    "    1020\n",
    "]\n",
    "\n",
    "pop = pd.Series(population, index=index)\n",
    "print(pop)\n",
    "print()\n",
    "\n",
    "pop_df = pd.DataFrame(\n",
    "    {\n",
    "        'total': pop,\n",
    "        'something': [\n",
    "            10,\n",
    "            11,\n",
    "            12,\n",
    "            13,\n",
    "            14,\n",
    "            15\n",
    "        ]\n",
    "    }\n",
    ")\n",
    "\n",
    "print(pop_df)\n",
    "print()\n",
    "print(pop_df['something'])"
   ]
  },
  {
   "cell_type": "markdown",
   "metadata": {},
   "source": [
    "Как можно создавать мультииндексы?\n",
    "1. Список массивов, задающих значение индекса на каждом уровне"
   ]
  },
  {
   "cell_type": "code",
   "execution_count": null,
   "metadata": {},
   "outputs": [],
   "source": [
    "i1 = pd.MultiIndex.from_arrays(\n",
    "    [\n",
    "        ['a', 'a', 'b', 'b'],\n",
    "        [1, 2, 1, 2]\n",
    "    ]\n",
    ")\n",
    "\n",
    "print(i1)"
   ]
  },
  {
   "cell_type": "markdown",
   "metadata": {},
   "source": [
    "2. Список кортежей, задающих значение индекса в каждой точке"
   ]
  },
  {
   "cell_type": "code",
   "execution_count": null,
   "metadata": {},
   "outputs": [],
   "source": [
    "i2 = pd.MultiIndex.from_tuples(\n",
    "    [\n",
    "        ('a', 1),\n",
    "        ('a', 2),\n",
    "        ('b', 1),\n",
    "        ('b', 2)\n",
    "    ]\n",
    ")\n",
    "\n",
    "print(i2)"
   ]
  },
  {
   "cell_type": "markdown",
   "metadata": {},
   "source": [
    "3. Декартово произведение обычных индексов"
   ]
  },
  {
   "cell_type": "code",
   "execution_count": null,
   "metadata": {},
   "outputs": [],
   "source": [
    "i3 = pd.MultiIndex.from_product(\n",
    "    [\n",
    "        ['a', 'b'],\n",
    "        [1, 2]\n",
    "    ]\n",
    ")\n",
    "\n",
    "print(i3)"
   ]
  },
  {
   "cell_type": "markdown",
   "metadata": {},
   "source": [
    "4. Описание внутреннего представления: levels, codes"
   ]
  },
  {
   "cell_type": "code",
   "execution_count": null,
   "metadata": {},
   "outputs": [],
   "source": [
    "i4 = pd.MultiIndex(\n",
    "    levels = [\n",
    "        ['a', 'b', 'c'],\n",
    "        [1, 2]\n",
    "    ],\n",
    "    codes = [\n",
    "        [0, 0, 1, 1, 2, 2], # a a b b c c\n",
    "        [0, 1, 0, 1, 0, 1]  # 1 2 1 2 1 2\n",
    "    ]\n",
    ")\n",
    "\n",
    "print(i4)"
   ]
  },
  {
   "cell_type": "markdown",
   "metadata": {},
   "source": [
    "Уровням можно задавать названия"
   ]
  },
  {
   "cell_type": "code",
   "execution_count": null,
   "metadata": {},
   "outputs": [],
   "source": [
    "data = {\n",
    "    ('city1', 2010): 100,\n",
    "    ('city1', 2020): 200,\n",
    "    ('city2', 2010): 1001,\n",
    "    ('city2', 2020): 2001,\n",
    "}\n",
    "\n",
    "s = pd.Series(data)\n",
    "print(s)\n",
    "print()\n",
    "\n",
    "s.index.names = ['city', 'year']\n",
    "print(s)"
   ]
  },
  {
   "cell_type": "code",
   "execution_count": null,
   "metadata": {},
   "outputs": [],
   "source": [
    "index = pd.MultiIndex.from_product(\n",
    "    [\n",
    "        ['city1', 'city2'],\n",
    "        [2010, 2020]\n",
    "    ],\n",
    "    names=['city', 'year']\n",
    ")\n",
    "\n",
    "print(index)\n",
    "\n",
    "columns =  pd.MultiIndex.from_product(\n",
    "    [\n",
    "        ['person1', 'person2', 'person3'],\n",
    "        ['job1', 'job2']\n",
    "    ],\n",
    "    names=['worker', 'job']\n",
    ")\n",
    "\n",
    "rng = np.random.default_rng(1)\n",
    "\n",
    "data = rng.random((4, 6))\n",
    "print(data)\n",
    "print()\n",
    "\n",
    "data_df = pd.DataFrame(data, index=index, columns=columns)\n",
    "print(data_df)"
   ]
  },
  {
   "cell_type": "markdown",
   "metadata": {},
   "source": [
    "Индексация и срезы (по мультииндексу)"
   ]
  },
  {
   "cell_type": "code",
   "execution_count": null,
   "metadata": {},
   "outputs": [],
   "source": [
    "data = {\n",
    "    ('city1', 2010): 100,\n",
    "    ('city1', 2020): 200,\n",
    "    ('city2', 2010): 1001,\n",
    "    ('city2', 2020): 2001,\n",
    "    ('city3', 2010): 10001,\n",
    "    ('city3', 2020): 20001,\n",
    "}\n",
    "\n",
    "s = pd.Series(data)\n",
    "print(s)\n",
    "print()\n",
    "\n",
    "s.index.names = ['city', 'year']\n",
    "print(s['city1', 2010])\n",
    "print()\n",
    "print(s['city1'])\n",
    "print()\n",
    "print(s.loc['city1': 'city2'])\n",
    "print()\n",
    "print(s[s > 2000])"
   ]
  },
  {
   "cell_type": "code",
   "execution_count": null,
   "metadata": {},
   "outputs": [],
   "source": [
    "print(s[['city1', 'city3']])"
   ]
  },
  {
   "cell_type": "markdown",
   "metadata": {},
   "source": [
    "Перегруппировка мультииндексов"
   ]
  },
  {
   "cell_type": "code",
   "execution_count": null,
   "metadata": {},
   "outputs": [],
   "source": [
    "rng = np.random.default_rng(1)\n",
    "\n",
    "index = pd.MultiIndex.from_product(\n",
    "    [\n",
    "        ['a', 'c', 'b'],\n",
    "        [1, 2]\n",
    "    ]\n",
    ")\n",
    "\n",
    "data = pd.Series(rng.random(6), index=index)\n",
    "data.index.names = ['char', 'int']\n",
    "\n",
    "print(data)\n",
    "print()\n",
    "\"\"\" print(data['a': 'b']) \"\"\" # Неправильно\n",
    "\n",
    "data = data.sort_index()\n",
    "print(data)\n",
    "print()\n",
    "print(data['a': 'b'])"
   ]
  },
  {
   "cell_type": "code",
   "execution_count": null,
   "metadata": {},
   "outputs": [],
   "source": [
    "index = [\n",
    "    ('city1', 2010, 1),\n",
    "    ('city1', 2010, 2),\n",
    "\n",
    "    ('city1', 2020, 1),\n",
    "    ('city1', 2020, 2),\n",
    "\n",
    "    ('city2', 2010, 1),\n",
    "    ('city2', 2010, 2),\n",
    "\n",
    "    ('city2', 2020, 1),\n",
    "    ('city2', 2020, 2)\n",
    "]\n",
    "\n",
    "population = [\n",
    "    101,\n",
    "    1010,\n",
    "    201,\n",
    "    2010,\n",
    "    301,\n",
    "    3010,\n",
    "    401,\n",
    "    4010\n",
    "]\n",
    "\n",
    "pop = pd.Series(population, index=index)\n",
    "print(pop)\n",
    "print()\n",
    "\n",
    "i = pd.MultiIndex.from_tuples(index)\n",
    "pop = pop.reindex(i)\n",
    "\n",
    "print(pop)\n",
    "print()\n",
    "print(pop.unstack())"
   ]
  },
  {
   "cell_type": "code",
   "execution_count": null,
   "metadata": {},
   "outputs": [],
   "source": [
    "print(pop.unstack(level = 0))\n",
    "print()\n",
    "print(pop.unstack(level = 1))\n",
    "print()\n",
    "print(pop.unstack(level = 2))"
   ]
  },
  {
   "cell_type": "markdown",
   "metadata": {},
   "source": [
    "NumPy Конкатенация"
   ]
  },
  {
   "cell_type": "code",
   "execution_count": null,
   "metadata": {},
   "outputs": [],
   "source": [
    "x = [1 , 2, 3]\n",
    "y = [4, 5, 6]\n",
    "z = [7, 8, 9]\n",
    "\n",
    "print(np.concatenate([x, y, z]))\n",
    "print()\n",
    "\n",
    "x = [[1 , 2, 3]]\n",
    "y = [[4, 5, 6]]\n",
    "z = [[7, 8, 9]]\n",
    "\n",
    "print(np.concatenate([x, y, z]))\n",
    "print()\n",
    "print(np.concatenate([x, y, z], axis = 1))\n",
    "print()\n",
    "print(np.concatenate([x, y, z], axis = 0))"
   ]
  },
  {
   "cell_type": "markdown",
   "metadata": {},
   "source": [
    "Pandas - concat"
   ]
  },
  {
   "cell_type": "code",
   "execution_count": null,
   "metadata": {},
   "outputs": [],
   "source": [
    "ser1 = pd.Series(['a', 'b', 'c'], index=[1, 2, 3])\n",
    "ser2 = pd.Series(['d', 'e', 'f'], index=[4, 5, 6])\n",
    "\n",
    "print(pd.concat([ser1, ser2]))\n",
    "\n",
    "ser1 = pd.Series(['a', 'b', 'c'], index=[1, 2, 3])\n",
    "ser2 = pd.Series(['d', 'e', 'f'], index=[1, 2, 6])\n",
    "\n",
    "print(pd.concat([ser1, ser2], verify_integrity=False))\n",
    "print(pd.concat([ser1, ser2], ignore_index=True))\n",
    "print(pd.concat([ser1, ser2], keys=['x', 'y']))"
   ]
  }
 ],
 "metadata": {
  "kernelspec": {
   "display_name": "Python 3",
   "language": "python",
   "name": "python3"
  },
  "language_info": {
   "codemirror_mode": {
    "name": "ipython",
    "version": 3
   },
   "file_extension": ".py",
   "mimetype": "text/x-python",
   "name": "python",
   "nbconvert_exporter": "python",
   "pygments_lexer": "ipython3",
   "version": "3.8.2"
  }
 },
 "nbformat": 4,
 "nbformat_minor": 2
}
