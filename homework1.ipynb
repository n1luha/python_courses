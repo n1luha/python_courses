{
 "cells": [
  {
   "cell_type": "code",
   "execution_count": null,
   "metadata": {},
   "outputs": [],
   "source": [
    "import numpy as np\n",
    "import sys"
   ]
  },
  {
   "cell_type": "markdown",
   "metadata": {},
   "source": [
    "1. Какие еще существуют коды типов?"
   ]
  },
  {
   "cell_type": "code",
   "execution_count": null,
   "metadata": {},
   "outputs": [],
   "source": [
    "print(type(True)) #bool\n",
    "\n",
    "print(type(5)) #int\n",
    "\n",
    "print(type(5.2)) #float\n",
    "\n",
    "print(type(2 + 3j)) #complex\n",
    "\n",
    "print(type('Yeah')) #str"
   ]
  },
  {
   "cell_type": "markdown",
   "metadata": {},
   "source": [
    "2. Напишите код, подобный приведенному выше, но с другим типом"
   ]
  },
  {
   "cell_type": "code",
   "execution_count": null,
   "metadata": {},
   "outputs": [],
   "source": [
    "a = tuple((5, 4, 3, 2, 1))\n",
    "print(sys.getsizeof(a))"
   ]
  },
  {
   "cell_type": "markdown",
   "metadata": {},
   "source": [
    "3. Напишите код для создания массива с 5 значениями, располагающимися через равные интервалы в диапазоне от 0 до 1"
   ]
  },
  {
   "cell_type": "code",
   "execution_count": null,
   "metadata": {},
   "outputs": [],
   "source": [
    "b = np.linspace(0, 1, 5)\n",
    "print(b)"
   ]
  },
  {
   "cell_type": "markdown",
   "metadata": {},
   "source": [
    "4. Напишите код для создания массива с 5 равномерно распределенными случайными значениями в диапазоне от 0 до 1"
   ]
  },
  {
   "cell_type": "code",
   "execution_count": null,
   "metadata": {},
   "outputs": [],
   "source": [
    "c = np.random.uniform(0, 1, 5)\n",
    "print(c)"
   ]
  },
  {
   "cell_type": "markdown",
   "metadata": {},
   "source": [
    "5. Напишите код для создания массива с 5 нормально распределенными случайными значениями с мат. ожиданием = 0 и дисперсией 1"
   ]
  },
  {
   "cell_type": "code",
   "execution_count": null,
   "metadata": {},
   "outputs": [],
   "source": [
    "d = np.random.normal(0, 1, 5)\n",
    "print(d)"
   ]
  },
  {
   "cell_type": "markdown",
   "metadata": {},
   "source": [
    "6. Напишите код для создания массива с 5 случайными целыми числами в [0, 10)"
   ]
  },
  {
   "cell_type": "code",
   "execution_count": null,
   "metadata": {},
   "outputs": [],
   "source": [
    "e = np.random.randint(0, 10, 5)\n",
    "print(e)"
   ]
  },
  {
   "cell_type": "markdown",
   "metadata": {},
   "source": [
    "7. Написать код для создания срезов массива 3 на 4"
   ]
  },
  {
   "cell_type": "code",
   "execution_count": null,
   "metadata": {},
   "outputs": [],
   "source": [
    "f = np.arange(1, 13).reshape(3, 4)\n",
    "print(f)\n",
    "\n",
    "print(f[:2, :3]) ## - первые две строки и три столбца\n",
    "\n",
    "print(f[:3, 1]) ## - первые три строки и второй столбец\n",
    "\n",
    "print(f[::-1, ::-1]) ## - все строки и столбцы в обратном порядке\n",
    "\n",
    "print(f[:, 1]) ## - второй столбец\n",
    "\n",
    "print(f[2, :]) ## - третья строка"
   ]
  },
  {
   "cell_type": "markdown",
   "metadata": {},
   "source": [
    "8. Продемонстрируйте, как сделать срез-копию"
   ]
  },
  {
   "cell_type": "code",
   "execution_count": null,
   "metadata": {},
   "outputs": [],
   "source": [
    "g = f[:2, :2].copy()\n",
    "print(g)\n",
    "\n",
    "g[0, 0] = 100\n",
    "print(g)"
   ]
  },
  {
   "cell_type": "markdown",
   "metadata": {},
   "source": [
    "9. Продемонстрируйте использование newaxis для получения вектора-столбца и вектора-строки"
   ]
  },
  {
   "cell_type": "code",
   "execution_count": null,
   "metadata": {},
   "outputs": [],
   "source": [
    "h = np.array([1, 2, 3, 4])\n",
    "print(h)\n",
    "\n",
    "print(h[:, np.newaxis])\n",
    "\n",
    "print(h[np.newaxis, :])"
   ]
  },
  {
   "cell_type": "markdown",
   "metadata": {},
   "source": [
    "10. Разберитесь, как работает метод dstack"
   ]
  },
  {
   "cell_type": "code",
   "execution_count": null,
   "metadata": {},
   "outputs": [],
   "source": [
    "j = np.array([[1, 2], [3, 4]])\n",
    "print(j)\n",
    "\n",
    "k = np.array([[5, 6], [7, 8]])\n",
    "print(k)\n",
    "\n",
    "print(np.dstack((j, k)))\n",
    "\n",
    "l = np.array([[[1, 2], [3, 4]], [[5, 6], [7, 8]]])\n",
    "print(l)\n",
    "\n",
    "m = np.array([[[9, 10], [11, 12]], [[13, 14], [15, 16]]])\n",
    "print(m)\n",
    "\n",
    "print(np.dstack((l, m)))"
   ]
  },
  {
   "cell_type": "markdown",
   "metadata": {},
   "source": [
    "11. Разберитесь, как работают методы split, vsplit, hsplit, dsplit"
   ]
  },
  {
   "cell_type": "code",
   "execution_count": null,
   "metadata": {},
   "outputs": [],
   "source": [
    "n = np.array([[1, 2, 3], [4, 5, 6], [7, 8, 9]])\n",
    "print(n)\n",
    "\n",
    "o = np.split(n, 3, axis=0) # Разделяет массив на подмассивы вдоль указанной оси\n",
    "for arr in o:\n",
    "    print(arr)\n",
    "\n",
    "p = np.array([[1, 2, 3], [4, 5, 6], [7, 8, 9], [10, 11, 12]])\n",
    "print(p)\n",
    "\n",
    "q = np.vsplit(p, 4) # Разделяет массив на подмассивы по вертикали (вдоль первой оси)\n",
    "for arr in q:\n",
    "    print(arr)\n",
    "\n",
    "r = np.hsplit(p, 3) # Разделяет массив на подмассивы по горизонтали (вдоль второй оси)\n",
    "for arr in r:\n",
    "    print(arr)\n",
    "\n",
    "s = np.array([[[1, 2], [3, 4]], [[5, 6], [7, 8]]])\n",
    "print(s)\n",
    "\n",
    "t = np.dsplit(s, 2) # Разделяет массив на подмассивы по глубине (вдоль третьей оси)\n",
    "for arr in t:\n",
    "    print(arr)"
   ]
  },
  {
   "cell_type": "markdown",
   "metadata": {},
   "source": [
    "12. Привести пример использования всех универсальных функций, которые я привел"
   ]
  },
  {
   "cell_type": "code",
   "execution_count": null,
   "metadata": {},
   "outputs": [],
   "source": [
    "x = np.array([1, 2, 3, 4, 5])\n",
    "y = np.array([6, 7, 8, 9, 10])\n",
    "print(x)\n",
    "\n",
    "print(np.add(x, 10))\n",
    "\n",
    "print(np.subtract(x, 10))\n",
    "\n",
    "print(np.multiply(x, 10))\n",
    "\n",
    "print(np.divide(y, 2)) # Деление\n",
    "\n",
    "print(np.power(x, 10))\n",
    "\n",
    "print(np.sin(x))\n",
    "\n",
    "print(np.cos(x))\n",
    "\n",
    "print(np.tan(x))\n",
    "\n",
    "print(np.log(x)) # Натуральный логарифм\n",
    "\n",
    "print(np.log10(x))\n",
    "\n",
    "print(np.log2(x))\n",
    "\n",
    "print(np.sum(x))\n",
    "\n",
    "print(np.prod(x))\n",
    "\n",
    "print(np.mean(x))\n",
    "\n",
    "print(np.std(x)) # Стандартное отклонение\n",
    "\n",
    "print(np.min(x))\n",
    "\n",
    "print(np.max(x))\n",
    "\n",
    "print(np.concatenate((x, y)))\n",
    "\n",
    "print(np.sort(x))\n",
    "\n",
    "print(np.add.outer(x, x)) # Внешнее сложение\n",
    "\n",
    "print(np.multiply.outer(x, x)) # Внешнее умножение"
   ]
  }
 ],
 "metadata": {
  "language_info": {
   "name": "python"
  }
 },
 "nbformat": 4,
 "nbformat_minor": 2
}
