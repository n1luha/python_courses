{
 "cells": [
  {
   "cell_type": "code",
   "execution_count": 39,
   "metadata": {},
   "outputs": [],
   "source": [
    "import numpy as np"
   ]
  },
  {
   "cell_type": "markdown",
   "metadata": {},
   "source": [
    "Суммирование значений в массиве (и другие агрегатные функции)"
   ]
  },
  {
   "cell_type": "code",
   "execution_count": 40,
   "metadata": {},
   "outputs": [
    {
     "name": "stdout",
     "output_type": "stream",
     "text": [
      "[0.51182162 0.9504637  0.14415961 0.94864945 0.31183145 0.42332645\n",
      " 0.82770259 0.40919914 0.54959369 0.02755911 0.75351311 0.53814331]\n",
      "6.395963234865947\n",
      "6.395963234865946\n",
      "55\n",
      "[ 7  9 11 13 15]\n",
      "[15 40]\n",
      "1\n",
      "[1 2 3 4 5]\n",
      "[1 6]\n",
      "1\n",
      "[1 2 3 4 5]\n",
      "[1 6]\n",
      "1\n",
      "[1 2 3 4 5]\n",
      "[1 6]\n"
     ]
    }
   ],
   "source": [
    "rng = np.random.default_rng(1)\n",
    "s = rng.random(12)\n",
    "\n",
    "print(s)\n",
    "print(sum(s))\n",
    "print(np.sum(s))\n",
    "\n",
    "a = np.array([\n",
    "    [1, 2, 3, 4, 5],\n",
    "    [6, 7, 8, 9, 10]\n",
    "])\n",
    "\n",
    "print(np.sum(a))\n",
    "print(np.sum(a, axis=0))\n",
    "print(np.sum(a, axis=1))\n",
    "\n",
    "print(np.min(a))\n",
    "print(np.min(a, axis=0)) # По столбцам\n",
    "print(np.min(a, axis=1)) # По строкам\n",
    "\n",
    "print(a.min())\n",
    "print(a.min(0))\n",
    "print(a.min(1))\n",
    "\n",
    "# Nan - Not a number\n",
    "print(np.nanmin(a)) # Для машинного обучения\n",
    "print(np.nanmin(a, axis=0))\n",
    "print(np.nanmin(a, axis=1))"
   ]
  },
  {
   "cell_type": "markdown",
   "metadata": {},
   "source": [
    "Транслирование (broadcasting)"
   ]
  },
  {
   "cell_type": "markdown",
   "metadata": {},
   "source": [
    "Набор правил, которые позволяют осуществлять бинарные операции с массивами разных форм и размеров"
   ]
  },
  {
   "cell_type": "code",
   "execution_count": 41,
   "metadata": {},
   "outputs": [
    {
     "name": "stdout",
     "output_type": "stream",
     "text": [
      "[5 6 7]\n",
      "[5 6 7]\n",
      "[[ 5  6  7]\n",
      " [ 8  9 10]]\n",
      "[[0 1 2]\n",
      " [1 2 3]\n",
      " [2 3 4]]\n"
     ]
    }
   ],
   "source": [
    "a = np.array([0, 1, 2])\n",
    "b = np.array([5 ,5 ,5])\n",
    "\n",
    "print(a + b)\n",
    "print(a + 5) # 5 транслируется в [5, 5, 5], т.е. подстраивается под размер массива a\n",
    "\n",
    "a = np.array([[0, 1, 2], [3, 4, 5]])\n",
    "print(a + 5)\n",
    "\n",
    "a = np.array([0, 1, 2])\n",
    "b = np.array([[0], [1], [2]])\n",
    "\n",
    "print(a + b)"
   ]
  },
  {
   "cell_type": "markdown",
   "metadata": {},
   "source": [
    "Правила\n",
    "1. Если размерности массива отличаются, то форма массива с меньшей размерностью дополняется 1 с левой стороны\n",
    "2. Если формы массивов не совпадают в каком-то измерении, то если у массива форма равна 1, то он растягивается до соответствия формы второго массива\n",
    "3. Если после применения этих правил в каком-либо измерении размеры отличаются и ни один из них не равен 1, то генерируется ошибка"
   ]
  },
  {
   "cell_type": "code",
   "execution_count": 42,
   "metadata": {},
   "outputs": [
    {
     "name": "stdout",
     "output_type": "stream",
     "text": [
      "2 (2, 3)\n",
      "1 (1,)\n",
      "[[ 5  6  7]\n",
      " [ 8  9 10]]\n"
     ]
    }
   ],
   "source": [
    "a = np.array([[0, 1, 2], [3, 4, 5]])\n",
    "b = np.array([5])\n",
    "\n",
    "print(a.ndim, a.shape)\n",
    "print(b.ndim, b.shape)\n",
    "\n",
    "# a         (2, 3)\n",
    "# b (1,) -> (1, 1) -> (2, 3)\n",
    "print(a + b)"
   ]
  },
  {
   "cell_type": "code",
   "execution_count": 43,
   "metadata": {},
   "outputs": [
    {
     "name": "stdout",
     "output_type": "stream",
     "text": [
      "[[1. 1. 1.]\n",
      " [1. 1. 1.]]\n",
      "[0 1 2]\n",
      "2 (2, 3)\n",
      "1 (3,)\n",
      "[[1. 2. 3.]\n",
      " [1. 2. 3.]] (2, 3)\n"
     ]
    }
   ],
   "source": [
    "a = np.ones((2, 3))\n",
    "b = np.arange(3)\n",
    "\n",
    "print(a)\n",
    "print(b)\n",
    "\n",
    "print(a.ndim, a.shape)\n",
    "print(b.ndim, b.shape)\n",
    "\n",
    "# (2, 3)   (2, 3)    (2, 3)\n",
    "# (3, ) -> (1, 3) -> (2, 3)\n",
    "\n",
    "c = a + b\n",
    "print(c, c.shape)"
   ]
  },
  {
   "cell_type": "code",
   "execution_count": 44,
   "metadata": {},
   "outputs": [
    {
     "name": "stdout",
     "output_type": "stream",
     "text": [
      "[[0]\n",
      " [1]\n",
      " [2]]\n",
      "[0 1 2]\n",
      "2 (3, 1)\n",
      "1 (3,)\n",
      "[[0 1 2]\n",
      " [1 2 3]\n",
      " [2 3 4]] (3, 3)\n"
     ]
    },
    {
     "data": {
      "text/plain": [
       "' c = a + b '"
      ]
     },
     "execution_count": 44,
     "metadata": {},
     "output_type": "execute_result"
    }
   ],
   "source": [
    "a = np.arange(3).reshape((3, 1))\n",
    "b = np.arange(3)\n",
    "\n",
    "print(a)\n",
    "print(b)\n",
    "\n",
    "print(a.ndim, a.shape)\n",
    "print(b.ndim, b.shape)\n",
    "\n",
    "# (3, 1)   (3, 1) -> (3, 3)\n",
    "# (3, ) -> (1, 3) -> (3, 3)\n",
    "\n",
    "c = a + b\n",
    "\n",
    "# [0 0 0]   [0 1 2]\n",
    "# [1 1 1] + [0 1 2]\n",
    "# [2 2 2]   [0 1 2]\n",
    "print(c, c.shape)\n",
    "\n",
    "a = np.ones((3, 2))\n",
    "b = np.arange(3)\n",
    "\n",
    "# 2 (3, 2)   (3, 2)    (3, 2)\n",
    "# 1 (3, ) -> (1, 3) -> (3, 3)\n",
    "\n",
    "\"\"\" c = a + b \"\"\""
   ]
  },
  {
   "cell_type": "code",
   "execution_count": 45,
   "metadata": {},
   "outputs": [
    {
     "name": "stdout",
     "output_type": "stream",
     "text": [
      "[5. 5. 5. 5. 5. 5. 5. 5. 5.]\n",
      "[[-4. -3. -2. -1.  0.  1.  2.  3.  4.]\n",
      " [ 4.  3.  2.  1.  0. -1. -2. -3. -4.]]\n",
      "[5. 5.]\n",
      "[[-4. -3. -2. -1.  0.  1.  2.  3.  4.]\n",
      " [ 4.  3.  2.  1.  0. -1. -2. -3. -4.]]\n"
     ]
    }
   ],
   "source": [
    "X = np.array([\n",
    "    [1, 2, 3, 4, 5, 6, 7, 8, 9],\n",
    "    [9, 8, 7, 6, 5, 4, 3, 2, 1]\n",
    "])\n",
    "\n",
    "Xmean0 = X.mean(0)\n",
    "print(Xmean0)\n",
    "Xcenter0 = X - Xmean0\n",
    "print(Xcenter0)\n",
    "\n",
    "Xmean1 = X.mean(1)\n",
    "print(Xmean1)\n",
    "\n",
    "Xmean1 = Xmean1[:, np.newaxis]\n",
    "\n",
    "Xcenter1 = X - Xmean1\n",
    "print(Xcenter1)"
   ]
  },
  {
   "cell_type": "code",
   "execution_count": 46,
   "metadata": {},
   "outputs": [
    {
     "name": "stdout",
     "output_type": "stream",
     "text": [
      "(50, 50)\n"
     ]
    },
    {
     "data": {
      "image/png": "[encoded data removed]",
      "text/plain": [
       "<Figure size 640x480 with 2 Axes>"
      ]
     },
     "metadata": {},
     "output_type": "display_data"
    }
   ],
   "source": [
    "x = np.linspace(0, 5, 50)\n",
    "y = np.linspace(0, 5, 50)[:, np.newaxis]\n",
    "\n",
    "z = np.sin(x) ** 3 + np.cos(20 + y * x) * np.sin(y)\n",
    "\n",
    "print(z.shape)\n",
    "\n",
    "import matplotlib.pyplot as plt\n",
    "\n",
    "plt.imshow(z)\n",
    "plt.colorbar()\n",
    "plt.show()"
   ]
  },
  {
   "cell_type": "code",
   "execution_count": 47,
   "metadata": {},
   "outputs": [
    {
     "name": "stdout",
     "output_type": "stream",
     "text": [
      "[ True  True False False False]\n",
      "[ True  True False False False]\n",
      "2\n",
      "[1 1 1 0 0]\n",
      "[3 0]\n",
      "3\n"
     ]
    }
   ],
   "source": [
    "x = np.array([1, 2, 3, 4, 5])\n",
    "y = np.array([[1, 2, 3, 4, 5], [6, 7, 8, 9, 10]])\n",
    "\n",
    "print(x < 3)\n",
    "print(np.less(x, 3))\n",
    "\n",
    "# False = 0\n",
    "# True = 1\n",
    "\n",
    "print(np.sum(x < 3)) # Количество элементов\n",
    "print(np.sum(y < 4, axis=0))\n",
    "print(np.sum(y < 4, axis=1))\n",
    "print(np.sum(y < 4))"
   ]
  },
  {
   "cell_type": "markdown",
   "metadata": {},
   "source": [
    "Маски - буллевы массивы"
   ]
  },
  {
   "cell_type": "code",
   "execution_count": 48,
   "metadata": {},
   "outputs": [
    {
     "name": "stdout",
     "output_type": "stream",
     "text": [
      "[ True  True False False False]\n",
      "[1 2]\n",
      "0b101010\n",
      "0b111011\n",
      "0b101010\n"
     ]
    }
   ],
   "source": [
    "x = np.array([1, 2, 3, 4, 5])\n",
    "y = print(x < 3)\n",
    "\n",
    "print(x[x < 3])\n",
    "\n",
    "print(bin(42))\n",
    "print(bin(59))\n",
    "print(bin(42 & 59))"
   ]
  },
  {
   "cell_type": "markdown",
   "metadata": {},
   "source": [
    "Векторизация индекса"
   ]
  },
  {
   "cell_type": "code",
   "execution_count": 49,
   "metadata": {},
   "outputs": [
    {
     "name": "stdout",
     "output_type": "stream",
     "text": [
      "[1 5 7]\n",
      "[[1 5 7]\n",
      " [2 4 8]]\n"
     ]
    }
   ],
   "source": [
    "x = np.array([0, 1, 2, 3, 4, 5, 6, 7, 8, 9, 10])\n",
    "index = [1, 5, 7]\n",
    "\n",
    "print(x[index])\n",
    "\n",
    "index = [[1, 5, 7], [2, 4, 8]]\n",
    "print(x[index])"
   ]
  },
  {
   "cell_type": "markdown",
   "metadata": {},
   "source": [
    "Форма результата отражает форму массива индексов, а не форму исходного массива"
   ]
  },
  {
   "cell_type": "code",
   "execution_count": 50,
   "metadata": {},
   "outputs": [
    {
     "name": "stdout",
     "output_type": "stream",
     "text": [
      "[[ 0  1  2  3]\n",
      " [ 4  5  6  7]\n",
      " [ 8  9 10 11]]\n",
      "[ 8  9 10 11]\n",
      "[10  8  9]\n",
      "[[ 6  4  5]\n",
      " [10  8  9]]\n"
     ]
    }
   ],
   "source": [
    "x = np.arange(12).reshape((3, 4))\n",
    "\n",
    "print(x)\n",
    "print(x[2])\n",
    "print(x[2, [2, 0, 1]])\n",
    "print(x[1: , [2, 0, 1]])"
   ]
  },
  {
   "cell_type": "code",
   "execution_count": 51,
   "metadata": {},
   "outputs": [
    {
     "name": "stdout",
     "output_type": "stream",
     "text": [
      "[0 1 2 3 4 5 6 7 8 9]\n",
      "[  0 999 999   3 999   5   6   7 999   9]\n"
     ]
    }
   ],
   "source": [
    "x = np.arange(10)\n",
    "i = np.array([2, 1, 8, 4])\n",
    "\n",
    "print(x)\n",
    "x[i] = 999\n",
    "\n",
    "print(x)"
   ]
  },
  {
   "cell_type": "markdown",
   "metadata": {},
   "source": [
    "Сортировка"
   ]
  },
  {
   "cell_type": "code",
   "execution_count": 52,
   "metadata": {},
   "outputs": [
    {
     "name": "stdout",
     "output_type": "stream",
     "text": [
      "[2, 2, 2, 3, 3, 3, 3, 5, 6, 6, 7]\n",
      "[2 2 2 3 3 3 3 5 6 6 7]\n"
     ]
    }
   ],
   "source": [
    "x = [3, 2, 3, 5, 2, 6, 7, 3, 6, 3, 2]\n",
    "\n",
    "print(sorted(x))\n",
    "print(np.sort(x))"
   ]
  },
  {
   "cell_type": "markdown",
   "metadata": {},
   "source": [
    "Структурированные массивы"
   ]
  },
  {
   "cell_type": "code",
   "execution_count": 53,
   "metadata": {},
   "outputs": [
    {
     "name": "stdout",
     "output_type": "stream",
     "text": [
      "[('name', '<U10'), ('age', '<i4')]\n",
      "[('name1', 10) ('name2', 20) ('name3', 30) ('name4', 40)]\n",
      "[False False  True  True]\n",
      "['name3' 'name4']\n"
     ]
    }
   ],
   "source": [
    "data = np.zeros(4, dtype = {\n",
    "    'names': (\n",
    "        'name', 'age'\n",
    "    ),\n",
    "    'formats': (\n",
    "        'U10', 'i4'\n",
    "    )\n",
    "})\n",
    "\n",
    "print(data.dtype)\n",
    "\n",
    "name = ['name1', 'name2', 'name3', 'name4']\n",
    "age = [10, 20, 30, 40]\n",
    "\n",
    "data['name'] = name\n",
    "data['age'] = age\n",
    "\n",
    "print(data)\n",
    "\n",
    "print(data['age'] > 20)\n",
    "print(data[data['age'] > 20]['name'])"
   ]
  },
  {
   "cell_type": "markdown",
   "metadata": {},
   "source": [
    "Массивы записей"
   ]
  },
  {
   "cell_type": "code",
   "execution_count": 54,
   "metadata": {},
   "outputs": [
    {
     "name": "stdout",
     "output_type": "stream",
     "text": [
      "[('name1', 10) ('name2', 20) ('name3', 30) ('name4', 40)]\n",
      "('name1', 10)\n",
      "name4\n"
     ]
    }
   ],
   "source": [
    "data_rec = data.view(np.recarray)\n",
    "print(data_rec)\n",
    "print(data_rec[0])\n",
    "print(data_rec[-1].name)"
   ]
  }
 ],
 "metadata": {
  "kernelspec": {
   "display_name": "Python 3",
   "language": "python",
   "name": "python3"
  },
  "language_info": {
   "codemirror_mode": {
    "name": "ipython",
    "version": 3
   },
   "file_extension": ".py",
   "mimetype": "text/x-python",
   "name": "python",
   "nbconvert_exporter": "python",
   "pygments_lexer": "ipython3",
   "version": "3.8.2"
  }
 },
 "nbformat": 4,
 "nbformat_minor": 2
}
