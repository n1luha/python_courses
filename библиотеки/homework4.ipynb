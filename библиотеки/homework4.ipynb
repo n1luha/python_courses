{
 "cells": [
  {
   "cell_type": "code",
   "execution_count": 1,
   "metadata": {},
   "outputs": [],
   "source": [
    "import numpy as np\n",
    "import pandas as pd"
   ]
  },
  {
   "cell_type": "markdown",
   "metadata": {},
   "source": [
    "1. Разобраться как использовать мультииндексные ключи в данном примере"
   ]
  },
  {
   "cell_type": "code",
   "execution_count": 2,
   "metadata": {},
   "outputs": [
    {
     "name": "stdout",
     "output_type": "stream",
     "text": [
      "                 total  something\n",
      "city  job  year                  \n",
      "city1 job1 2010    101         10\n",
      "           2020    201         11\n",
      "      job2 2010    102         12\n",
      "           2020    202         13\n",
      "city2 job1 2010    103         14\n",
      "           2020    203         15\n",
      "      job2 2010    104         16\n",
      "           2020    204         17\n",
      "\n",
      "job   year\n",
      "job1  2010    10\n",
      "      2020    11\n",
      "job2  2010    12\n",
      "      2020    13\n",
      "Name: something, dtype: int64\n",
      "\n",
      "                 total  something\n",
      "city  job  year                  \n",
      "city1 job1 2010    101         10\n",
      "           2020    201         11\n",
      "      job2 2010    102         12\n",
      "           2020    202         13\n",
      "city2 job1 2010    103         14\n",
      "           2020    203         15\n",
      "      job2 2010    104         16\n",
      "           2020    204         17\n",
      "\n",
      "city   job   year\n",
      "city1  job1  2010    10\n",
      "             2020    11\n",
      "       job2  2010    12\n",
      "             2020    13\n",
      "city2  job1  2010    14\n",
      "             2020    15\n",
      "       job2  2010    16\n",
      "             2020    17\n",
      "Name: something, dtype: int64\n"
     ]
    }
   ],
   "source": [
    "index = [\n",
    "    ('city1', 'job1', 2010),\n",
    "    ('city1', 'job1', 2020),\n",
    "    ('city1', 'job2', 2010),\n",
    "    ('city1', 'job2', 2020),\n",
    "    ('city2', 'job1', 2010),\n",
    "    ('city2', 'job1', 2020),\n",
    "    ('city2', 'job2', 2010),\n",
    "    ('city2', 'job2', 2020),\n",
    "]\n",
    "\n",
    "population = [\n",
    "    101,\n",
    "    201,\n",
    "    102,\n",
    "    202,\n",
    "    103,\n",
    "    203,\n",
    "    104,\n",
    "    204\n",
    "]\n",
    "\n",
    "multi_index = pd.MultiIndex.from_tuples(index, names=['city', 'job', 'year'])\n",
    "\n",
    "pop_df = pd.DataFrame(\n",
    "    {\n",
    "        'total': population,\n",
    "        'something': [\n",
    "            10,\n",
    "            11,\n",
    "            12,\n",
    "            13,\n",
    "            14,\n",
    "            15,\n",
    "            16,\n",
    "            17\n",
    "        ]\n",
    "    }, index=multi_index\n",
    ")\n",
    "\n",
    "print(pop_df)\n",
    "print()\n",
    "print(pop_df.loc['city1', 'something'])\n",
    "print()\n",
    "print(pop_df.loc[['city1', 'city2'], ['total', 'something']])\n",
    "print()\n",
    "print(pop_df.loc[['city1', 'city2'], 'something'])"
   ]
  },
  {
   "cell_type": "markdown",
   "metadata": {},
   "source": [
    "2. Из получившихся данных выбрать данные по "
   ]
  },
  {
   "cell_type": "code",
   "execution_count": 3,
   "metadata": {},
   "outputs": [
    {
     "name": "stdout",
     "output_type": "stream",
     "text": [
      "            total  something\n",
      "city  job                   \n",
      "city1 job1    201         11\n",
      "      job2    202         13\n",
      "city2 job1    203         15\n",
      "      job2    204         17\n",
      "\n",
      "            total  something\n",
      "city  year                  \n",
      "city1 2010    101         10\n",
      "      2020    201         11\n",
      "city2 2010    103         14\n",
      "      2020    203         15\n",
      "\n",
      "      total  something\n",
      "year                  \n",
      "2010    102         12\n",
      "2020    202         13\n"
     ]
    }
   ],
   "source": [
    "print(pop_df.xs(2020, level='year')) # - 2020 году (для всех столбцов)\n",
    "print()\n",
    "print(pop_df.xs('job1', level='job')) # - job1 (для всех строк)\n",
    "print()\n",
    "print(pop_df.loc[('city1', 'job2')]) # - для city1 и job2"
   ]
  },
  {
   "cell_type": "markdown",
   "metadata": {},
   "source": [
    "3. Взять за основу DataFrame со следующей структурой"
   ]
  },
  {
   "cell_type": "code",
   "execution_count": 4,
   "metadata": {},
   "outputs": [
    {
     "name": "stdout",
     "output_type": "stream",
     "text": [
      "worker     person1      person2      person3     \n",
      "job           job1 job2    job1 job2    job1 job2\n",
      "city  year                                       \n",
      "city1 2010      11   11      61   35      31   64\n",
      "      2020      47   44      63   75      33   81\n",
      "city2 2010      53   19      98   21      78    0\n",
      "      2020      98   23      42   29      99    8\n",
      "\n",
      "worker     person1      person3     \n",
      "job           job1 job2    job1 job2\n",
      "city  year                          \n",
      "city1 2010      11   11      31   64\n",
      "      2020      47   44      33   81\n",
      "city2 2010      53   19      78    0\n",
      "      2020      98   23      99    8\n",
      "\n",
      "worker     person1      person2     \n",
      "job           job1 job2    job1 job2\n",
      "city  year                          \n",
      "city1 2010      11   11      61   35\n",
      "      2020      47   44      63   75\n",
      "\n",
      "worker   job \n",
      "person3  job1    99\n",
      "         job2     8\n",
      "Name: (city2, 2020), dtype: int32\n"
     ]
    }
   ],
   "source": [
    "index = pd.MultiIndex.from_product(\n",
    "    [\n",
    "        ['city1', 'city2'],\n",
    "        [2010, 2020]\n",
    "    ],\n",
    "    names=['city', 'year']\n",
    ")\n",
    "\n",
    "columns = pd.MultiIndex.from_product(\n",
    "    [\n",
    "        ['person1', 'person2', 'person3'],\n",
    "        ['job1', 'job2']\n",
    "    ],\n",
    "    names=['worker', 'job']\n",
    ")\n",
    "\n",
    "data = np.random.randint(0, 100, size=(4, 6))\n",
    "df = pd.DataFrame(data, index=index, columns=columns)\n",
    "\n",
    "print(df)\n",
    "print()\n",
    "print(df.loc[:, ['person1', 'person3']]) # все данные по person1 и person3\n",
    "print()\n",
    "idx = pd.IndexSlice\n",
    "print(df.loc[idx['city1', :], idx[['person1', 'person2'], :]]) # все данные по первому городу и первым двум person-ам (с использование срезов)\n",
    "print()\n",
    "print(df.loc[idx['city2', 2020], idx['person3', :]]) # Приведите пример (самостоятельно) с использованием pd.IndexSlice"
   ]
  },
  {
   "cell_type": "markdown",
   "metadata": {},
   "source": [
    "4. Привести пример использования inner и outer джойнов для Series"
   ]
  },
  {
   "cell_type": "code",
   "execution_count": 5,
   "metadata": {},
   "outputs": [
    {
     "name": "stdout",
     "output_type": "stream",
     "text": [
      "1    a\n",
      "2    b\n",
      "3    c\n",
      "dtype: object\n",
      "2    b\n",
      "3    c\n",
      "4    d\n",
      "dtype: object\n",
      "\n",
      "     0    1\n",
      "1    a  NaN\n",
      "2    b    b\n",
      "3    c    c\n",
      "4  NaN    d\n",
      "\n",
      "   0  1\n",
      "2  b  b\n",
      "3  c  c\n"
     ]
    }
   ],
   "source": [
    "ser1 = pd.Series(['a', 'b', 'c'], index=[1, 2, 3])\n",
    "ser2 = pd.Series(['b', 'c', 'd'], index=[2, 3, 4])\n",
    "\n",
    "print(ser1)\n",
    "print(ser2)\n",
    "print()\n",
    "\n",
    "# outer объединение сохраняет все индексы из обоих Series, а для отсутствующих значений использует NaN\n",
    "print(pd.concat([ser1, ser2], axis=1, join='outer'))\n",
    "print()\n",
    "# inner объединение сохраняет только общие индексы из обоих Series\n",
    "print(pd.concat([ser1, ser2], axis=1, join='inner'))"
   ]
  }
 ],
 "metadata": {
  "kernelspec": {
   "display_name": "Python 3",
   "language": "python",
   "name": "python3"
  },
  "language_info": {
   "codemirror_mode": {
    "name": "ipython",
    "version": 3
   },
   "file_extension": ".py",
   "mimetype": "text/x-python",
   "name": "python",
   "nbconvert_exporter": "python",
   "pygments_lexer": "ipython3",
   "version": "3.8.2"
  }
 },
 "nbformat": 4,
 "nbformat_minor": 2
}
