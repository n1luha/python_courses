{
 "cells": [
  {
   "cell_type": "code",
   "execution_count": 288,
   "metadata": {},
   "outputs": [],
   "source": [
    "import numpy as np\n",
    "import pandas as pd"
   ]
  },
  {
   "cell_type": "markdown",
   "metadata": {},
   "source": [
    "Pandas - расширение NumPy (структурированные массивы). Строки и столбцы индексируются метками, а не только числовыми значениями"
   ]
  },
  {
   "cell_type": "markdown",
   "metadata": {},
   "source": [
    "Series, DataFrame, Index"
   ]
  },
  {
   "cell_type": "markdown",
   "metadata": {},
   "source": [
    "Series"
   ]
  },
  {
   "cell_type": "code",
   "execution_count": 289,
   "metadata": {},
   "outputs": [
    {
     "name": "stdout",
     "output_type": "stream",
     "text": [
      "0    0.25\n",
      "1    0.50\n",
      "2    0.75\n",
      "3    1.00\n",
      "dtype: float64\n",
      "<class 'pandas.core.series.Series'>\n",
      "[0.25 0.5  0.75 1.  ]\n",
      "<class 'numpy.ndarray'>\n",
      "RangeIndex(start=0, stop=4, step=1)\n",
      "<class 'pandas.core.indexes.range.RangeIndex'>\n"
     ]
    }
   ],
   "source": [
    "data = pd.Series([0.25, 0.5, 0.75, 1.0])\n",
    "print(data)\n",
    "print(type(data))\n",
    "\n",
    "print(data.values)\n",
    "print(type(data.values))\n",
    "\n",
    "print(data.index)\n",
    "print(type(data.index))\n"
   ]
  },
  {
   "cell_type": "code",
   "execution_count": 290,
   "metadata": {},
   "outputs": [
    {
     "name": "stdout",
     "output_type": "stream",
     "text": [
      "0.25\n",
      "1    0.50\n",
      "2    0.75\n",
      "dtype: float64\n",
      "a    0.25\n",
      "b    0.50\n",
      "c    0.75\n",
      "d    1.00\n",
      "dtype: float64\n",
      "0.25\n",
      "b    0.50\n",
      "c    0.75\n",
      "d    1.00\n",
      "dtype: float64\n",
      "<class 'pandas.core.indexes.base.Index'>\n"
     ]
    }
   ],
   "source": [
    "data = pd.Series([0.25, 0.5, 0.75, 1.0])\n",
    "print(data[0])\n",
    "print(data[1:3])\n",
    "\n",
    "data = pd.Series([0.25, 0.5, 0.75, 1.0], index=['a', 'b', 'c', 'd'])\n",
    "print(data)\n",
    "print(data['a'])\n",
    "print(data['b': 'd'])\n",
    "\n",
    "print(type(data.index))"
   ]
  },
  {
   "cell_type": "code",
   "execution_count": 291,
   "metadata": {},
   "outputs": [
    {
     "name": "stdout",
     "output_type": "stream",
     "text": [
      "1     0.25\n",
      "10    0.50\n",
      "7     0.75\n",
      "d     1.00\n",
      "dtype: float64\n",
      "0.25\n",
      "10    0.50\n",
      "7     0.75\n",
      "d     1.00\n",
      "dtype: float64\n"
     ]
    }
   ],
   "source": [
    "data = pd.Series([0.25, 0.5, 0.75, 1.0], index=[1, 10, 7, 'd'])\n",
    "\n",
    "print(data)\n",
    "\n",
    "print(data[1])\n",
    "print(data[10: 'd'])"
   ]
  },
  {
   "cell_type": "code",
   "execution_count": 292,
   "metadata": {},
   "outputs": [
    {
     "name": "stdout",
     "output_type": "stream",
     "text": [
      "city1    1001\n",
      "city2    1002\n",
      "city3    1003\n",
      "city4    1004\n",
      "city5    1005\n",
      "dtype: int64\n",
      "1004\n",
      "city4    1004\n",
      "city5    1005\n",
      "dtype: int64\n"
     ]
    }
   ],
   "source": [
    "population_dict = {\n",
    "    'city1': 1001,\n",
    "    'city2': 1002,\n",
    "    'city3': 1003,\n",
    "    'city4': 1004,\n",
    "    'city5': 1005,\n",
    "}\n",
    "\n",
    "population = pd.Series(population_dict)\n",
    "print(population)\n",
    "\n",
    "print(population['city4'])\n",
    "print(population['city4': 'city5'])"
   ]
  },
  {
   "cell_type": "markdown",
   "metadata": {},
   "source": [
    "Для создания Series можно использовать \n",
    "1. Списки Python или массивы NumPy\n",
    "2. Скалярные значения\n",
    "3. Словари"
   ]
  },
  {
   "cell_type": "markdown",
   "metadata": {},
   "source": [
    "DataFrame - двумерный массив с явно определенными индексами. Последовательность согласованных по индексам объектов Series"
   ]
  },
  {
   "cell_type": "code",
   "execution_count": 293,
   "metadata": {},
   "outputs": [
    {
     "name": "stdout",
     "output_type": "stream",
     "text": [
      "       population1  area1\n",
      "city1         1001   9991\n",
      "city2         1002   9992\n",
      "city3         1003   9993\n",
      "city4         1004   9994\n",
      "city5         1005   9995\n",
      "[[1001 9991]\n",
      " [1002 9992]\n",
      " [1003 9993]\n",
      " [1004 9994]\n",
      " [1005 9995]]\n",
      "Index(['city1', 'city2', 'city3', 'city4', 'city5'], dtype='object')\n",
      "Index(['population1', 'area1'], dtype='object')\n",
      "<class 'numpy.ndarray'>\n",
      "<class 'pandas.core.indexes.base.Index'>\n",
      "<class 'pandas.core.indexes.base.Index'>\n"
     ]
    }
   ],
   "source": [
    "population_dict = {\n",
    "    'city1': 1001,\n",
    "    'city2': 1002,\n",
    "    'city3': 1003,\n",
    "    'city4': 1004,\n",
    "    'city5': 1005,\n",
    "}\n",
    "\n",
    "area_dict = {\n",
    "    'city1': 9991,\n",
    "    'city2': 9992,\n",
    "    'city3': 9993,\n",
    "    'city4': 9994,\n",
    "    'city5': 9995,\n",
    "}\n",
    "\n",
    "population = pd.Series(population_dict)\n",
    "area = pd.Series(area_dict)\n",
    "\n",
    "\"\"\" print(population)\n",
    "print(area) \"\"\"\n",
    "\n",
    "states = pd.DataFrame({\n",
    "    'population1': population,\n",
    "    'area1': area,\n",
    "})\n",
    "\n",
    "print(states)\n",
    "\n",
    "print(states.values)\n",
    "print(states.index)\n",
    "print(states.columns)\n",
    "\n",
    "print(type(states.values))\n",
    "print(type(states.index))\n",
    "print(type(states.columns))"
   ]
  },
  {
   "cell_type": "code",
   "execution_count": 294,
   "metadata": {},
   "outputs": [
    {
     "name": "stdout",
     "output_type": "stream",
     "text": [
      "city1    9991\n",
      "city2    9992\n",
      "city3    9993\n",
      "city4    9994\n",
      "city5    9995\n",
      "Name: area1, dtype: int64\n"
     ]
    }
   ],
   "source": [
    "print(states['area1'])"
   ]
  },
  {
   "cell_type": "markdown",
   "metadata": {},
   "source": [
    "DataFrame. Способы создания\n",
    "1. Объекты Series\n",
    "2. Списки словарей\n",
    "3. Словари объектов  Series\n",
    "4. Двумерный массив NumPy\n",
    "5. Структурированный массив NumPy"
   ]
  },
  {
   "cell_type": "markdown",
   "metadata": {},
   "source": [
    "Index - способ организации ссылки на данные объектов Series и DataFrame. Index - неизменяем, упорядочен, является мультимножеством (могут быть повторяющиеся значения)"
   ]
  },
  {
   "cell_type": "code",
   "execution_count": 295,
   "metadata": {},
   "outputs": [
    {
     "name": "stdout",
     "output_type": "stream",
     "text": [
      "3\n",
      "Index([2, 5, 11], dtype='int64')\n"
     ]
    },
    {
     "data": {
      "text/plain": [
       "' ind[1] = 5 '"
      ]
     },
     "execution_count": 295,
     "metadata": {},
     "output_type": "execute_result"
    }
   ],
   "source": [
    "ind = pd.Index([2, 3, 5, 7, 11])\n",
    "print(ind[1])\n",
    "print(ind[::2])\n",
    "\n",
    "\"\"\" ind[1] = 5 \"\"\" # Нельзя!!"
   ]
  },
  {
   "cell_type": "markdown",
   "metadata": {},
   "source": [
    "Index - следует соглашениям объекта set (python)"
   ]
  },
  {
   "cell_type": "code",
   "execution_count": 296,
   "metadata": {},
   "outputs": [
    {
     "name": "stdout",
     "output_type": "stream",
     "text": [
      "Index([2, 3, 4, 5], dtype='int64')\n"
     ]
    }
   ],
   "source": [
    "indA = pd.Index([1, 2, 3, 4, 5])\n",
    "indB = pd.Index([2, 3, 4, 5, 6])\n",
    "\n",
    "print(indA.intersection(indB))"
   ]
  },
  {
   "cell_type": "markdown",
   "metadata": {},
   "source": [
    "Выборка данных из Series\n"
   ]
  },
  {
   "cell_type": "markdown",
   "metadata": {},
   "source": [
    "Как словарь"
   ]
  },
  {
   "cell_type": "code",
   "execution_count": 297,
   "metadata": {},
   "outputs": [
    {
     "name": "stdout",
     "output_type": "stream",
     "text": [
      "True\n",
      "False\n",
      "Index(['a', 'b', 'c', 'd'], dtype='object')\n",
      "[('a', 0.25), ('b', 0.5), ('c', 0.75), ('d', 1.0)]\n",
      "a     100.00\n",
      "b       0.50\n",
      "c       0.75\n",
      "d       1.00\n",
      "z    1000.00\n",
      "dtype: float64\n"
     ]
    }
   ],
   "source": [
    "data = pd.Series([0.25, 0.5, 0.75, 1.0], index=['a', 'b', 'c', 'd'])\n",
    "\n",
    "print('a' in data)\n",
    "print('z' in data)\n",
    "\n",
    "print(data.keys())\n",
    "\n",
    "print(list(data.items()))\n",
    "\n",
    "data['a'] = 100\n",
    "data['z'] = 1000\n",
    "\n",
    "print(data)"
   ]
  },
  {
   "cell_type": "markdown",
   "metadata": {},
   "source": [
    "Как одномерный массив"
   ]
  },
  {
   "cell_type": "code",
   "execution_count": 298,
   "metadata": {},
   "outputs": [
    {
     "name": "stdout",
     "output_type": "stream",
     "text": [
      "a    0.25\n",
      "b    0.50\n",
      "c    0.75\n",
      "dtype: float64\n",
      "a    0.25\n",
      "b    0.50\n",
      "dtype: float64\n",
      "c    0.75\n",
      "dtype: float64\n",
      "a    0.25\n",
      "d    1.00\n",
      "dtype: float64\n",
      "0.25\n"
     ]
    }
   ],
   "source": [
    "data = pd.Series([0.25, 0.5, 0.75, 1.0], index=['a', 'b', 'c', 'd'])\n",
    "\n",
    "print(data['a': 'c'])\n",
    "print(data[0:2])\n",
    "print(data[(data > 0.5)  & (data < 1)])\n",
    "print(data[['a', 'd']])\n",
    "\n",
    "data = pd.Series([0.25, 0.5, 0.75, 1.0], index=[1, 3, 10, 15])\n",
    "\n",
    "print(data[1])"
   ]
  },
  {
   "cell_type": "markdown",
   "metadata": {},
   "source": [
    "Атрибуты-индексаторы"
   ]
  },
  {
   "cell_type": "code",
   "execution_count": 299,
   "metadata": {},
   "outputs": [
    {
     "name": "stdout",
     "output_type": "stream",
     "text": [
      "0.25\n",
      "0.25\n",
      "0.5\n"
     ]
    }
   ],
   "source": [
    "data = pd.Series([0.25, 0.5, 0.75, 1.0], index=[1, 3, 10, 15])\n",
    "\n",
    "print(data[1])\n",
    "\n",
    "print(data.loc[1])\n",
    "print(data.iloc[1])"
   ]
  },
  {
   "cell_type": "markdown",
   "metadata": {},
   "source": [
    "Выборка данных из DataFrame"
   ]
  },
  {
   "cell_type": "markdown",
   "metadata": {},
   "source": [
    "Как словарь"
   ]
  },
  {
   "cell_type": "code",
   "execution_count": 300,
   "metadata": {},
   "outputs": [
    {
     "name": "stdout",
     "output_type": "stream",
     "text": [
      "       area1  pop1   pop\n",
      "city1   9991  1001  1001\n",
      "city2   9992  1002  1002\n",
      "city3   9993  1003  1003\n",
      "city4   9994  1004  1004\n",
      "city5   9995  1005  1005\n",
      "city1    9991\n",
      "city2    9992\n",
      "city3    9993\n",
      "city4    9994\n",
      "city5    9995\n",
      "Name: area1, dtype: int64\n",
      "city1    9991\n",
      "city2    9992\n",
      "city3    9993\n",
      "city4    9994\n",
      "city5    9995\n",
      "Name: area1, dtype: int64\n",
      "True\n",
      "False\n",
      "       area1  pop1   pop       new\n",
      "city1   9991  1001  1001  9.981019\n",
      "city2   9992  1002  1002  9.972056\n",
      "city3   9993  1003  1003  9.963111\n",
      "city4   9994  1004  1004  9.954183\n",
      "city5   9995  1005  1005  9.945274\n"
     ]
    }
   ],
   "source": [
    "pop = pd.Series(\n",
    "    {\n",
    "        'city1': 1001,\n",
    "        'city2': 1002,\n",
    "        'city3': 1003,\n",
    "        'city4': 1004,\n",
    "        'city5': 1005,\n",
    "    }\n",
    ")\n",
    "\n",
    "area = pd.Series(\n",
    "    {\n",
    "        'city1': 9991,\n",
    "        'city2': 9992,\n",
    "        'city3': 9993,\n",
    "        'city4': 9994,\n",
    "        'city5': 9995,\n",
    "    }\n",
    ")\n",
    "\n",
    "data = pd.DataFrame({'area1': area, 'pop1': pop, 'pop': pop})\n",
    "\n",
    "print(data)\n",
    "\n",
    "print(data['area1'])\n",
    "print(data.area1)\n",
    "\n",
    "print(data.pop1 is data['pop1'])\n",
    "print(data.pop is data['pop1'])\n",
    "\n",
    "data['new'] = data['area1']\n",
    "\n",
    "data['new'] = data['area1'] / data['pop1']\n",
    "\n",
    "print(data)"
   ]
  },
  {
   "cell_type": "markdown",
   "metadata": {},
   "source": [
    "Двумерный NumPy массив"
   ]
  },
  {
   "cell_type": "code",
   "execution_count": 301,
   "metadata": {},
   "outputs": [
    {
     "name": "stdout",
     "output_type": "stream",
     "text": [
      "       area1  pop1\n",
      "city1   9991  1001\n",
      "city2   9992  1002\n",
      "city3   9993  1003\n",
      "city4   9994  1004\n",
      "city5   9995  1005\n",
      "[[9991 1001]\n",
      " [9992 1002]\n",
      " [9993 1003]\n",
      " [9994 1004]\n",
      " [9995 1005]]\n",
      "       city1  city2  city3  city4  city5\n",
      "area1   9991   9992   9993   9994   9995\n",
      "pop1    1001   1002   1003   1004   1005\n",
      "city1    9991\n",
      "city2    9992\n",
      "city3    9993\n",
      "city4    9994\n",
      "city5    9995\n",
      "Name: area1, dtype: int64\n",
      "[[9991 1001]\n",
      " [9992 1002]\n",
      " [9993 1003]]\n"
     ]
    }
   ],
   "source": [
    "pop = pd.Series(\n",
    "    {\n",
    "        'city1': 1001,\n",
    "        'city2': 1002,\n",
    "        'city3': 1003,\n",
    "        'city4': 1004,\n",
    "        'city5': 1005,\n",
    "    }\n",
    ")\n",
    "\n",
    "area = pd.Series(\n",
    "    {\n",
    "        'city1': 9991,\n",
    "        'city2': 9992,\n",
    "        'city3': 9993,\n",
    "        'city4': 9994,\n",
    "        'city5': 9995,\n",
    "    }\n",
    ")\n",
    "\n",
    "data = pd.DataFrame({'area1': area, 'pop1': pop})\n",
    "\n",
    "print(data)\n",
    "\n",
    "print(data.values)\n",
    "\n",
    "print(data.T)\n",
    "\n",
    "print(data['area1'])\n",
    "\n",
    "print(data.values[0: 3])"
   ]
  },
  {
   "cell_type": "markdown",
   "metadata": {},
   "source": [
    "Атрибуты-индексаторы"
   ]
  },
  {
   "cell_type": "code",
   "execution_count": 302,
   "metadata": {},
   "outputs": [
    {
     "name": "stdout",
     "output_type": "stream",
     "text": [
      "       area1  pop1   pop\n",
      "city1   9991  1001  1001\n",
      "city2   9992  1002  1002\n",
      "city3   9993  1003  1003\n",
      "city4   9994  1004  1004\n",
      "city5   9995  1005  1005\n",
      "       pop1\n",
      "city1  1001\n",
      "city2  1002\n",
      "city3  1003\n",
      "       pop1   pop\n",
      "city1  1001  1001\n",
      "city2  1002  1002\n",
      "city3  1003  1003\n",
      "city4  1004  1004\n",
      "       area1   pop\n",
      "city3   9993  1003\n",
      "city4   9994  1004\n",
      "city5   9995  1005\n",
      "       area1  pop1   pop\n",
      "city1   9991  1001  9999\n",
      "city2   9992  1002  1002\n",
      "city3   9993  1003  1003\n",
      "city4   9994  1004  1004\n",
      "city5   9995  1005  1005\n"
     ]
    }
   ],
   "source": [
    "pop = pd.Series(\n",
    "    {\n",
    "        'city1': 1001,\n",
    "        'city2': 1002,\n",
    "        'city3': 1003,\n",
    "        'city4': 1004,\n",
    "        'city5': 1005,\n",
    "    }\n",
    ")\n",
    "\n",
    "area = pd.Series(\n",
    "    {\n",
    "        'city1': 9991,\n",
    "        'city2': 9992,\n",
    "        'city3': 9993,\n",
    "        'city4': 9994,\n",
    "        'city5': 9995,\n",
    "    }\n",
    ")\n",
    "\n",
    "data = pd.DataFrame({'area1': area, 'pop1': pop, 'pop': pop})\n",
    "\n",
    "print(data)\n",
    "print(data.iloc[:3, 1: 2])\n",
    "print(data.loc[: 'city4', 'pop1': 'pop'])\n",
    "print(data.loc[data['pop'] > 1002, ['area1', 'pop']])\n",
    "\n",
    "data.iloc[0, 2] = 9999\n",
    "\n",
    "print(data)"
   ]
  },
  {
   "cell_type": "code",
   "execution_count": 303,
   "metadata": {},
   "outputs": [
    {
     "name": "stdout",
     "output_type": "stream",
     "text": [
      "0    5\n",
      "1    1\n",
      "2    1\n",
      "3    1\n",
      "dtype: int64\n",
      "0    148.413159\n",
      "1      2.718282\n",
      "2      2.718282\n",
      "3      2.718282\n",
      "dtype: float64\n"
     ]
    }
   ],
   "source": [
    "rng = np.random.default_rng()\n",
    "s = pd.Series(rng.integers(0, 10, 4))\n",
    "\n",
    "print(s)\n",
    "print(np.exp(s))"
   ]
  },
  {
   "cell_type": "code",
   "execution_count": 304,
   "metadata": {},
   "outputs": [
    {
     "name": "stdout",
     "output_type": "stream",
     "text": [
      "         area1    pop1\n",
      "city1   9991.0  1001.0\n",
      "city2   9992.0  1002.0\n",
      "city3   9993.0  1003.0\n",
      "city41     NaN  1004.0\n",
      "city42  9994.0     NaN\n",
      "city51     NaN  1005.0\n",
      "city52  9995.0     NaN\n"
     ]
    }
   ],
   "source": [
    "pop = pd.Series(\n",
    "    {\n",
    "        'city1': 1001,\n",
    "        'city2': 1002,\n",
    "        'city3': 1003,\n",
    "        'city41': 1004,\n",
    "        'city51': 1005,\n",
    "    }\n",
    ")\n",
    "\n",
    "area = pd.Series(\n",
    "    {\n",
    "        'city1': 9991,\n",
    "        'city2': 9992,\n",
    "        'city3': 9993,\n",
    "        'city42': 9994,\n",
    "        'city52': 9995,\n",
    "    }\n",
    ")\n",
    "\n",
    "data = pd.DataFrame({'area1': area, 'pop1': pop})\n",
    "\n",
    "print(data)"
   ]
  },
  {
   "cell_type": "markdown",
   "metadata": {},
   "source": [
    "NaN - not a number"
   ]
  },
  {
   "cell_type": "code",
   "execution_count": 305,
   "metadata": {},
   "outputs": [
    {
     "name": "stdout",
     "output_type": "stream",
     "text": [
      "   a  b\n",
      "0  9  1\n",
      "1  8  8\n",
      "   a  b  c\n",
      "0  5  7  2\n",
      "1  6  8  9\n",
      "2  8  6  9\n",
      "      a     b   c\n",
      "0  14.0   8.0 NaN\n",
      "1  14.0  16.0 NaN\n",
      "2   NaN   NaN NaN\n"
     ]
    }
   ],
   "source": [
    "rng = np.random.default_rng()\n",
    "\n",
    "dfA = pd.DataFrame(rng.integers(0, 10, (2, 2)), columns=['a', 'b'])\n",
    "dfB = pd.DataFrame(rng.integers(0, 10, (3, 3)), columns=['a', 'b', 'c'])\n",
    "\n",
    "print(dfA)\n",
    "print(dfB)\n",
    "\n",
    "print(dfA + dfB)"
   ]
  },
  {
   "cell_type": "code",
   "execution_count": 306,
   "metadata": {},
   "outputs": [
    {
     "name": "stdout",
     "output_type": "stream",
     "text": [
      "[[9 8 9 8]\n",
      " [0 8 7 5]\n",
      " [0 6 6 0]]\n",
      "[9 8 9 8]\n",
      "[[ 0  0  0  0]\n",
      " [-9  0 -2 -3]\n",
      " [-9 -2 -3 -8]]\n"
     ]
    }
   ],
   "source": [
    "rng = np.random.default_rng()\n",
    "\n",
    "A = rng.integers(0, 10, (3, 4))\n",
    "\n",
    "print(A)\n",
    "\n",
    "print(A[0])\n",
    "print(A - A[0])"
   ]
  },
  {
   "cell_type": "code",
   "execution_count": 307,
   "metadata": {},
   "outputs": [
    {
     "name": "stdout",
     "output_type": "stream",
     "text": [
      "[[0 8 8 0]\n",
      " [4 2 2 1]\n",
      " [7 0 1 3]]\n",
      "   a  b  c  d\n",
      "0  0  8  8  0\n",
      "1  4  2  2  1\n",
      "2  7  0  1  3\n",
      "a    0\n",
      "b    8\n",
      "c    8\n",
      "d    0\n",
      "Name: 0, dtype: int64\n",
      "   a  b  c  d\n",
      "0  0  0  0  0\n",
      "1  4 -6 -6  1\n",
      "2  7 -8 -7  3\n",
      "a    0\n",
      "c    8\n",
      "Name: 0, dtype: int64\n",
      "     a   b    c   d\n",
      "0  0.0 NaN  0.0 NaN\n",
      "1  4.0 NaN -6.0 NaN\n",
      "2  7.0 NaN -7.0 NaN\n"
     ]
    }
   ],
   "source": [
    "rng = np.random.default_rng()\n",
    "\n",
    "A = rng.integers(0, 10, (3, 4))\n",
    "\n",
    "print(A)\n",
    "\n",
    "df = pd.DataFrame(A, columns=['a', 'b', 'c', 'd'])\n",
    "print(df)\n",
    "\n",
    "print(df.iloc[0])\n",
    "print(df - df.iloc[0])\n",
    "\n",
    "print(df.iloc[0, ::2])\n",
    "print(df - df.iloc[0, ::2])"
   ]
  },
  {
   "cell_type": "markdown",
   "metadata": {},
   "source": [
    "NA - значения: NaN, null, -99999"
   ]
  },
  {
   "cell_type": "markdown",
   "metadata": {},
   "source": [
    "Pandas. Два способа хранения отсутствующих значений\n",
    "1. Индикаторы NaN, None\n",
    "2. null"
   ]
  },
  {
   "cell_type": "markdown",
   "metadata": {},
   "source": [
    "None - объект (накладные расходы). Не работает с sum, min..."
   ]
  },
  {
   "cell_type": "code",
   "execution_count": 308,
   "metadata": {},
   "outputs": [
    {
     "name": "stdout",
     "output_type": "stream",
     "text": [
      "6\n",
      "[ 1. nan  2.  3.]\n",
      "nan\n",
      "6.0\n"
     ]
    }
   ],
   "source": [
    "val1 = np.array([1, 2, 3])\n",
    "print(val1.sum())\n",
    "\n",
    "\"\"\" val1 = np.array([1, None, 2, 3])\n",
    "print(val1.sum()) \"\"\" # Не работает\n",
    "\n",
    "val1 = np.array([1, np.nan, 2, 3])\n",
    "print(val1)\n",
    "print(val1.sum())\n",
    "print(np.nansum(val1))"
   ]
  },
  {
   "cell_type": "code",
   "execution_count": null,
   "metadata": {},
   "outputs": [
    {
     "name": "stdout",
     "output_type": "stream",
     "text": [
      "0    0\n",
      "1    1\n",
      "2    2\n",
      "3    3\n",
      "4    4\n",
      "dtype: int32\n",
      "0    NaN\n",
      "1    NaN\n",
      "2    2.0\n",
      "3    3.0\n",
      "4    4.0\n",
      "dtype: float64\n",
      "0    a\n",
      "1    b\n",
      "2    c\n",
      "3    d\n",
      "dtype: object\n",
      "0    None\n",
      "1     NaN\n",
      "2       c\n",
      "3       d\n",
      "dtype: object\n"
     ]
    }
   ],
   "source": [
    "x = pd.Series(range(5), dtype=int)\n",
    "print(x)\n",
    "\n",
    "x[0] = None\n",
    "x[1] = np.nan\n",
    "print(x)\n",
    "\n",
    "x1 = pd.Series(['a', 'b', 'c', 'd'])\n",
    "print(x1)\n",
    "\n",
    "x1[0] = None\n",
    "x1[1] = np.nan\n",
    "\n",
    "print(x1)"
   ]
  },
  {
   "cell_type": "code",
   "execution_count": 310,
   "metadata": {},
   "outputs": [
    {
     "name": "stdout",
     "output_type": "stream",
     "text": [
      "0       1\n",
      "1       2\n",
      "2       3\n",
      "3     NaN\n",
      "4    None\n",
      "5    <NA>\n",
      "dtype: object\n",
      "0       1\n",
      "1       2\n",
      "2       3\n",
      "3    <NA>\n",
      "4    <NA>\n",
      "5    <NA>\n",
      "dtype: Int32\n",
      "0    False\n",
      "1    False\n",
      "2    False\n",
      "3     True\n",
      "4     True\n",
      "5     True\n",
      "dtype: bool\n",
      "3    <NA>\n",
      "4    <NA>\n",
      "5    <NA>\n",
      "dtype: Int32\n",
      "0    1\n",
      "1    2\n",
      "2    3\n",
      "dtype: Int32\n"
     ]
    }
   ],
   "source": [
    "x2 = pd.Series([1, 2, 3, np.nan, None, pd.NA])\n",
    "print(x2)\n",
    "\n",
    "x3 = pd.Series([1, 2, 3, np.nan, None, pd.NA], dtype='Int32')\n",
    "print(x3)\n",
    "\n",
    "print(x3.isnull())\n",
    "print(x3[x3.isnull()])\n",
    "print(x3[x3.notnull()])"
   ]
  },
  {
   "cell_type": "code",
   "execution_count": 311,
   "metadata": {},
   "outputs": [
    {
     "name": "stdout",
     "output_type": "stream",
     "text": [
      "0    1\n",
      "1    2\n",
      "2    3\n",
      "dtype: Int32\n",
      "   0    1  2   3    4     5\n",
      "0  1  2.0  3 NaN  NaN  <NA>\n",
      "1  1  2.0  3 NaN  5.0     6\n",
      "2  1  NaN  3 NaN  NaN     6\n",
      "\n",
      "Empty DataFrame\n",
      "Columns: [0, 1, 2, 3, 4, 5]\n",
      "Index: []\n",
      "\n",
      "Empty DataFrame\n",
      "Columns: [0, 1, 2, 3, 4, 5]\n",
      "Index: []\n",
      "\n",
      "   0  2\n",
      "0  1  3\n",
      "1  1  3\n",
      "2  1  3\n"
     ]
    }
   ],
   "source": [
    "print(x3.dropna())\n",
    "\n",
    "df = pd.DataFrame(\n",
    "    [\n",
    "        [1, 2, 3, np.nan, None, pd.NA],\n",
    "        [1, 2, 3, None, 5, 6],\n",
    "        [1, np.nan, 3, None, np.nan, 6],\n",
    "    ]\n",
    ")\n",
    "\n",
    "print(df)\n",
    "print()\n",
    "print(df.dropna())\n",
    "print()\n",
    "print(df.dropna(axis=0))\n",
    "print()\n",
    "print(df.dropna(axis=1))"
   ]
  },
  {
   "cell_type": "markdown",
   "metadata": {},
   "source": [
    "how"
   ]
  },
  {
   "cell_type": "markdown",
   "metadata": {},
   "source": [
    "1. all - все значения NA\n",
    "2. any - хотя бы одно значение\n",
    "3. thresh = x, остается, если присутствует МИНИМУМ x НЕПУСТЫХ значений"
   ]
  },
  {
   "cell_type": "code",
   "execution_count": 312,
   "metadata": {},
   "outputs": [
    {
     "name": "stdout",
     "output_type": "stream",
     "text": [
      "   0    1  2    4     5\n",
      "0  1  2.0  3  NaN  <NA>\n",
      "1  1  2.0  3  5.0     6\n",
      "2  1  NaN  3  NaN     6\n",
      "   0  2\n",
      "0  1  3\n",
      "1  1  3\n",
      "2  1  3\n",
      "   0    1  2     5\n",
      "0  1  2.0  3  <NA>\n",
      "1  1  2.0  3     6\n",
      "2  1  NaN  3     6\n"
     ]
    }
   ],
   "source": [
    "print(df.dropna(axis=1, how='all'))\n",
    "print(df.dropna(axis=1, how='any'))\n",
    "print(df.dropna(axis=1, thresh=2))"
   ]
  }
 ],
 "metadata": {
  "kernelspec": {
   "display_name": "Python 3",
   "language": "python",
   "name": "python3"
  },
  "language_info": {
   "codemirror_mode": {
    "name": "ipython",
    "version": 3
   },
   "file_extension": ".py",
   "mimetype": "text/x-python",
   "name": "python",
   "nbconvert_exporter": "python",
   "pygments_lexer": "ipython3",
   "version": "3.8.2"
  }
 },
 "nbformat": 4,
 "nbformat_minor": 2
}
