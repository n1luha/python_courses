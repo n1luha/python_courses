{
 "cells": [
  {
   "cell_type": "code",
   "execution_count": null,
   "metadata": {},
   "outputs": [],
   "source": [
    "import pandas as pd\n",
    "import numpy as np"
   ]
  },
  {
   "cell_type": "markdown",
   "metadata": {},
   "source": [
    "1. Привести различные способы создания объектов типа Series\n"
   ]
  },
  {
   "cell_type": "code",
   "execution_count": null,
   "metadata": {},
   "outputs": [],
   "source": [
    "data1 = [1, 2, 3, 4, 5] # Списки Python\n",
    "s1 = pd.Series(data1)\n",
    "print(s1)\n",
    "\n",
    "data2 = np.array([6, 7, 8, 9, 10]) # Mассивы NumPy\n",
    "s2 = pd.Series(data2)\n",
    "print(s2)\n",
    "\n",
    "s3 = pd.Series(5, index=[1, 2, 3, 4, 5]) # Скалярные значения\n",
    "print(s3)\n",
    "\n",
    "data4 = {'a': 10, 'b': 20, 'c': 30, 'd': 40, 'e': 50} # Словари\n",
    "s4 = pd.Series(data4)\n",
    "print(s4)"
   ]
  },
  {
   "cell_type": "markdown",
   "metadata": {},
   "source": [
    "2. Привести различные способы создания объектов типа DataFrame"
   ]
  },
  {
   "cell_type": "code",
   "execution_count": null,
   "metadata": {},
   "outputs": [],
   "source": [
    "s1 = pd.Series([1, 2, 3, 4, 5]) # Объекты Series\n",
    "s2 = pd.Series([6, 7, 8, 9, 10])\n",
    "\n",
    "df1 = pd.DataFrame({'col1': s1, 'col2': s2})\n",
    "print(df1)\n",
    "print()\n",
    "\n",
    "data1 = [\n",
    "    {'name': 'Alice', 'age': 15},\n",
    "    {'name': 'Bob', 'age': 30},\n",
    "    {'name': 'Charlie', 'age': 35},\n",
    "] # Cписки словарей\n",
    "\n",
    "df2 = pd.DataFrame(data1)\n",
    "print(df2)\n",
    "print()\n",
    "\n",
    "data2 = np.array([\n",
    "    [1, 2, 3],\n",
    "    [4, 5, 6]\n",
    "]) # Двумерный массив NumPy\n",
    "\n",
    "df3 = pd.DataFrame(data2, columns=['col1', 'col2', 'col3'])\n",
    "print(df3)\n",
    "print()\n",
    "\n",
    "data3 = np.array([\n",
    "    (10, 'Alice', 25),\n",
    "    (20, 'Bob', 30),\n",
    "    (30, 'Charlie', 35),\n",
    "], dtype=[('id', 'i4'), ('name', 'U10'), ('age', 'i4')]) # Cтруктурированный массив Numpy\n",
    "\n",
    "df4 = pd.DataFrame(data3)\n",
    "print(df4)"
   ]
  },
  {
   "cell_type": "markdown",
   "metadata": {},
   "source": [
    "3. Объедините два объекта Series с неодинаковыми множествами ключей (индексов) так, чтобы вместо NaN было установлено значение 1"
   ]
  },
  {
   "cell_type": "code",
   "execution_count": null,
   "metadata": {},
   "outputs": [],
   "source": [
    "s1 = pd.Series([10, 20, 30], index=['a', 'b', 'c'])\n",
    "s2 = pd.Series([40, 50, 60], index=['d', 'e', 'f'])\n",
    "\n",
    "result = pd.concat([s1, s2], axis=1, keys=['s1', 's2']).fillna(1)\n",
    "print(result)"
   ]
  },
  {
   "cell_type": "markdown",
   "metadata": {},
   "source": [
    "4. Переписать пример с транслированием для DataFrame так, чтобы вычитание происходило по СТОЛБЦАМ"
   ]
  },
  {
   "cell_type": "code",
   "execution_count": null,
   "metadata": {},
   "outputs": [],
   "source": [
    "rng = np.random.default_rng()\n",
    "\n",
    "A = rng.integers(0, 10, (3, 4))\n",
    "\n",
    "print(A)\n",
    "\n",
    "df = pd.DataFrame(A, columns=['a', 'b', 'c', 'd'])\n",
    "print(df)\n",
    "print()\n",
    "\n",
    "print(df.sub(df['a'], axis=0)) # Вычитание первого столбца из всех столбцов"
   ]
  },
  {
   "cell_type": "markdown",
   "metadata": {},
   "source": [
    "5. На примере объектов DataFrame продемонстрируйте использование методов ffill() и bfill()"
   ]
  },
  {
   "cell_type": "code",
   "execution_count": null,
   "metadata": {},
   "outputs": [],
   "source": [
    "df = pd.DataFrame({\n",
    "    'A': [1, np.nan, 3, np.nan],\n",
    "    'B': [np.nan, 2, np.nan, 4],\n",
    "    'C': [6, 7, np.nan, np.nan],\n",
    "})\n",
    "\n",
    "print(df)\n",
    "print(df.ffill()) # Заполняет пропущенные значения, используя последнее доступное значение перед пропуском (заполнение \"вперед\")\n",
    "print(df.bfill()) # Заполняет пропущенные значения, используя следующее доступное значение после пропуска (заполнение \"назад\")\n",
    "print(df.ffill().bfill()) # Полезно комбинировать оба метода, чтобы заполнить пропуски как вперед, так и назад\n",
    "print(df.ffill(axis=1)) # Заполнение пропусков по строкам (\"вперед\")"
   ]
  }
 ],
 "metadata": {
  "kernelspec": {
   "display_name": "Python 3",
   "language": "python",
   "name": "python3"
  },
  "language_info": {
   "codemirror_mode": {
    "name": "ipython",
    "version": 3
   },
   "file_extension": ".py",
   "mimetype": "text/x-python",
   "name": "python",
   "nbconvert_exporter": "python",
   "pygments_lexer": "ipython3",
   "version": "3.8.2"
  }
 },
 "nbformat": 4,
 "nbformat_minor": 2
}
